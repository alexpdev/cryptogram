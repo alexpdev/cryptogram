{
 "nbformat": 4,
 "nbformat_minor": 2,
 "metadata": {
  "language_info": {
   "name": "python",
   "codemirror_mode": {
    "name": "ipython",
    "version": 3
   },
   "version": "3.8.1-final"
  },
  "orig_nbformat": 2,
  "file_extension": ".py",
  "mimetype": "text/x-python",
  "name": "python",
  "npconvert_exporter": "python",
  "pygments_lexer": "ipython3",
  "version": 3,
  "kernelspec": {
   "name": "python38164bitc739dfe3695d49d0a548c52ec4f4c38d",
   "display_name": "Python 3.8.1 64-bit"
  }
 },
 "cells": [
  {
   "cell_type": "code",
   "execution_count": 1,
   "metadata": {},
   "outputs": [],
   "source": [
    "import pickle\n",
    "import json\n",
    "import os\n",
    "f = open(\"gcomwords.txt\",\"rt\").read()\n",
    "f = f.split(\"\\n\")\n",
    "a = pickle.load(open(\"Gwords.pickle\",\"rb\"))\n",
    "b = pickle.load(open(\"pwords.pickle\",\"rb\"))\n",
    "c = pickle.load(open(\"word_counts.pickle\",\"rb\"))\n",
    "e = json.load(open(\"word_counts.json\",\"rt\"))\n",
    "lst = [a,b,c]\n",
    "# for i in lst:\n",
    "#     print(len(i))"
   ]
  },
  {
   "cell_type": "code",
   "execution_count": 2,
   "metadata": {},
   "outputs": [],
   "source": [
    "def mapped(word):\n",
    "    \"\"\"Generate word map\"\"\"\n",
    "    num,mapp,temps = 0,[],{}\n",
    "    for i in word:\n",
    "        if i not in temps:\n",
    "            mapp.append(num)\n",
    "            temps[i] = num\n",
    "            num += 1\n",
    "        elif i in temps:\n",
    "            mapp.append(temps[i])\n",
    "    return tuple(mapp)"
   ]
  },
  {
   "cell_type": "code",
   "execution_count": 3,
   "metadata": {},
   "outputs": [
    {
     "name": "stdout",
     "output_type": "stream",
     "text": "1907 4710\n"
    }
   ],
   "source": [
    "l,d = [],{}\n",
    "for k in b:\n",
    "    m = mapped(k)\n",
    "    if m in d:\n",
    "        d[m][\"count\"] += 1\n",
    "    else:\n",
    "        d[m] = {\"count\":1}\n",
    "    if k in a and m not in l:\n",
    "        l.append(m)\n",
    "print(len(l),len(d))"
   ]
  }
 ]
}