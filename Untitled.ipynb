{
 "cells": [
  {
   "cell_type": "code",
   "execution_count": 1,
   "metadata": {},
   "outputs": [],
   "source": [
    "from classes import Phrase\n",
    "from phrases import WORDS\n",
    "from cryptofuncs import get_matches,compare\n",
    "from encrypt import encrypt\n",
    "p = \"MOOSE ROOF FARTHER FIRE FIRST FOREMOST\"\n",
    "ep = encrypt(p)\n",
    "a = len(WORDS)-200\n",
    "m = p.split(\" \")\n",
    "while len(WORDS) > a:\n",
    "    word = WORDS.pop()\n",
    "    m.append(word)"
   ]
  },
  {
   "cell_type": "code",
   "execution_count": 2,
   "metadata": {},
   "outputs": [],
   "source": [
    "phrase = Phrase.create(ep)"
   ]
  },
  {
   "cell_type": "code",
   "execution_count": 3,
   "metadata": {},
   "outputs": [],
   "source": [
    "p_lst = phrase.splitter()"
   ]
  },
  {
   "cell_type": "code",
   "execution_count": 4,
   "metadata": {},
   "outputs": [
    {
     "data": {
      "text/plain": [
       "(['ZXXIB', 'YXXT', 'TNYFRBY', 'TPYB', 'TPYIF', 'TXYBZXIF'],\n",
       " 'ZXXIB YXXT TNYFRBY TPYB TPYIF TXYBZXIF')"
      ]
     },
     "execution_count": 4,
     "metadata": {},
     "output_type": "execute_result"
    }
   ],
   "source": [
    "p_lst,ep"
   ]
  },
  {
   "cell_type": "code",
   "execution_count": 5,
   "metadata": {},
   "outputs": [
    {
     "data": {
      "text/plain": [
       "{(1, 2, 2, 3, 4): {'matches': {'ANNUM', 'MOOSE'}, 'words': ['ZXXIB']},\n",
       " (1, 2, 2, 3): {'matches': {'ROOF'}, 'words': ['YXXT']},\n",
       " (1, 2, 3, 4, 5, 6, 3): {'matches': {'FARTHER', 'PENGUIN', 'WINSTON'},\n",
       "  'words': ['TNYFRBY']},\n",
       " (1,\n",
       "  2,\n",
       "  3,\n",
       "  4): {'matches': {'CAFE',\n",
       "   'COKE',\n",
       "   'DUCK',\n",
       "   'FIRE',\n",
       "   'HOLT',\n",
       "   'LETS',\n",
       "   'LOBE',\n",
       "   'NAIL',\n",
       "   'NILE',\n",
       "   'POTS',\n",
       "   'RAID',\n",
       "   'RIBS',\n",
       "   'RICO',\n",
       "   'TOES',\n",
       "   'WARE',\n",
       "   'WARN'}, 'words': ['TPYB']},\n",
       " (1,\n",
       "  2,\n",
       "  3,\n",
       "  4,\n",
       "  5): {'matches': {'AGONY',\n",
       "   'BEADS',\n",
       "   'BOWEL',\n",
       "   'CHOIR',\n",
       "   'COSTA',\n",
       "   'EDGAR',\n",
       "   'FIRST',\n",
       "   'FLUNG',\n",
       "   'FOLDS',\n",
       "   'GRAMS',\n",
       "   'HASTE',\n",
       "   'KEITH',\n",
       "   'PEDRO',\n",
       "   'PURSE',\n",
       "   'SADLY',\n",
       "   'STAIN',\n",
       "   'STOVE',\n",
       "   'SWEAR',\n",
       "   'TWINS',\n",
       "   'VIRAL',\n",
       "   'YEAST'}, 'words': ['TPYIF']},\n",
       " (1, 2, 3, 4, 5, 2, 6, 7): {'matches': {'ATHLETIC', 'FOREMOST'},\n",
       "  'words': ['TXYBZXIF']}}"
      ]
     },
     "execution_count": 5,
     "metadata": {},
     "output_type": "execute_result"
    }
   ],
   "source": [
    "matches = get_matches(m,p_lst)\n",
    "matches"
   ]
  },
  {
   "cell_type": "code",
   "execution_count": 6,
   "metadata": {},
   "outputs": [
    {
     "data": {
      "text/plain": [
       "((1, 2, 2, 3), {'matches': {'ROOF'}, 'words': ['YXXT']}, 'YXXT', {'ROOF'})"
      ]
     },
     "execution_count": 6,
     "metadata": {},
     "output_type": "execute_result"
    }
   ],
   "source": [
    "mp,least = min(matches.items(),key=lambda x: len(x[1][\"matches\"]))\n",
    "first_word = least['words'][0]\n",
    "first_matches = least['matches']\n",
    "mp,least,first_word,first_matches"
   ]
  },
  {
   "cell_type": "code",
   "execution_count": 7,
   "metadata": {},
   "outputs": [],
   "source": [
    "del matches[mp]"
   ]
  },
  {
   "cell_type": "code",
   "execution_count": 8,
   "metadata": {},
   "outputs": [],
   "source": [
    "uphrase = phrase.update(first_word,first_matches.pop())"
   ]
  },
  {
   "cell_type": "code",
   "execution_count": 9,
   "metadata": {},
   "outputs": [
    {
     "data": {
      "text/plain": [
       "('ZOOIB ROOF FNRFRBR FPRB FPRIF FORBZOIF', {'Y': 'R', 'X': 'O', 'T': 'F'})"
      ]
     },
     "execution_count": 9,
     "metadata": {},
     "output_type": "execute_result"
    }
   ],
   "source": [
    "uphrase.swapper(),uphrase.swaps"
   ]
  },
  {
   "cell_type": "code",
   "execution_count": 10,
   "metadata": {},
   "outputs": [],
   "source": [
    "nlst = uphrase.splitter()"
   ]
  },
  {
   "cell_type": "code",
   "execution_count": 14,
   "metadata": {},
   "outputs": [
    {
     "data": {
      "text/plain": [
       "(1,\n",
       " 'O',\n",
       " 'O',\n",
       " 4,\n",
       " 5,\n",
       " ' ',\n",
       " 'R',\n",
       " 'O',\n",
       " 'O',\n",
       " 'F',\n",
       " ' ',\n",
       " 'F',\n",
       " 11,\n",
       " 'R',\n",
       " 13,\n",
       " 14,\n",
       " 5,\n",
       " 'R',\n",
       " ' ',\n",
       " 'F',\n",
       " 17,\n",
       " 'R',\n",
       " 5,\n",
       " ' ',\n",
       " 'F',\n",
       " 17,\n",
       " 'R',\n",
       " 4,\n",
       " 13,\n",
       " ' ',\n",
       " 'F',\n",
       " 'O',\n",
       " 'R',\n",
       " 5,\n",
       " 1,\n",
       " 'O',\n",
       " 4,\n",
       " 13)"
      ]
     },
     "execution_count": 14,
     "metadata": {},
     "output_type": "execute_result"
    }
   ],
   "source": [
    "uphrase.mapp"
   ]
  },
  {
   "cell_type": "code",
   "execution_count": 15,
   "metadata": {},
   "outputs": [],
   "source": [
    "mtch = []\n",
    "for word in m:\n",
    "    if compare(word,nlst[-1]):\n",
    "        mtch.append(word)"
   ]
  },
  {
   "cell_type": "code",
   "execution_count": 16,
   "metadata": {},
   "outputs": [
    {
     "data": {
      "text/plain": [
       "[]"
      ]
     },
     "execution_count": 16,
     "metadata": {},
     "output_type": "execute_result"
    }
   ],
   "source": [
    "mtch"
   ]
  },
  {
   "cell_type": "code",
   "execution_count": 16,
   "metadata": {},
   "outputs": [
    {
     "data": {
      "text/plain": [
       "[0, 1, 2, 5]"
      ]
     },
     "execution_count": 16,
     "metadata": {},
     "output_type": "execute_result"
    }
   ],
   "source": [
    "nlst[-1].indeces"
   ]
  },
  {
   "cell_type": "code",
   "execution_count": null,
   "metadata": {},
   "outputs": [],
   "source": []
  }
 ],
 "metadata": {
  "kernelspec": {
   "display_name": "Python 3",
   "language": "python",
   "name": "python3"
  },
  "language_info": {
   "codemirror_mode": {
    "name": "ipython",
    "version": 3
   },
   "file_extension": ".py",
   "mimetype": "text/x-python",
   "name": "python",
   "nbconvert_exporter": "python",
   "pygments_lexer": "ipython3",
   "version": "3.7.4"
  }
 },
 "nbformat": 4,
 "nbformat_minor": 4
}
